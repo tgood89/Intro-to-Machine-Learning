{
 "cells": [
  {
   "cell_type": "markdown",
   "metadata": {},
   "source": [
    "# Assignment 2: Allstate Claims Severity "
   ]
  },
  {
   "cell_type": "markdown",
   "metadata": {},
   "source": [
    "# 1. Conduct your analysis using a cross-validation design.\n",
    "# 2. Conduct EDA and provide appropriate visualizations in the process.\n",
    "# 3. Build a minimum of two separate regression models using the training set.\n",
    "# 4. Evaluate polynomial, indicator, dichotomous, & piecewise model components.\n",
    "# 5. Create at least one feature from the data set.\n",
    "# 6. Evaluate the models’ assumptions.\n",
    "# 7. Evaluate goodness of fit metrics on the training and validation sets.\n",
    "# 8. Submit predictions for the unseen test set available on Kaggle.com.\n",
    "# 9. Provide your Kaggle user name and a screen snapshot of your Kaggle scores.\n",
    "# 10. Discuss what your models tell you in layman’s terms."
   ]
  },
  {
   "cell_type": "code",
   "execution_count": null,
   "metadata": {},
   "outputs": [],
   "source": []
  }
 ],
 "metadata": {
  "kernelspec": {
   "display_name": "Python 3",
   "language": "python",
   "name": "python3"
  },
  "language_info": {
   "codemirror_mode": {
    "name": "ipython",
    "version": 3
   },
   "file_extension": ".py",
   "mimetype": "text/x-python",
   "name": "python",
   "nbconvert_exporter": "python",
   "pygments_lexer": "ipython3",
   "version": "3.8.3"
  }
 },
 "nbformat": 4,
 "nbformat_minor": 4
}
